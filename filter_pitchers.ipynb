{
 "cells": [
  {
   "cell_type": "code",
   "execution_count": 2,
   "metadata": {},
   "outputs": [],
   "source": [
    "import matplotlib.pyplot as plt\n",
    "import numpy as np  \n",
    "import pandas as pd \n",
    "import seaborn as sns"
   ]
  },
  {
   "cell_type": "code",
   "execution_count": 3,
   "metadata": {},
   "outputs": [],
   "source": [
    "fangraphs_df = pd.read_csv(\"fangraphs_season_level.csv\")\n",
    "pitch_df = pd.read_csv(\"savant_pitch_level.csv\")"
   ]
  },
  {
   "cell_type": "code",
   "execution_count": 4,
   "metadata": {},
   "outputs": [],
   "source": [
    "#this code notebook was duplicated and modified several times to filter\n",
    "#groups of players for more indidivual analysis, whether that be starters\n",
    "#or relievers. The currently listed implementation was used to identify starters\n",
    "#who had \"bad\" seasons in 2023, with certain factors that might make them \n",
    "#potential candidates for bullpen roles.\n",
    "\n",
    "#get the pitches thrown by the \"bad starters\"\n",
    "bad_starters = fangraphs_df[fangraphs_df['Role'] =='SP']\n",
    "bad_starters = bad_starters[bad_starters['GS'] >= 20]\n",
    "bad_starters = bad_starters[bad_starters['xFIP_minus'] >= 120]\n",
    "#bad_starters = bad_starters[bad_starters['Barrel_pct'] <= .075]\n",
    "bad_starters = bad_starters[bad_starters['Season']==2023]"
   ]
  },
  {
   "cell_type": "code",
   "execution_count": 5,
   "metadata": {},
   "outputs": [
    {
     "name": "stdout",
     "output_type": "stream",
     "text": [
      "pitch_type                  object\n",
      "game_date                   object\n",
      "release_speed              float64\n",
      "release_pos_x              float64\n",
      "release_pos_z              float64\n",
      "                            ...   \n",
      "sp_indicator                 int64\n",
      "rp_indicator                 int64\n",
      "pitch_number_appearance      int64\n",
      "pitcher_at_bat_number        int64\n",
      "times_faced                  int64\n",
      "Length: 91, dtype: object\n"
     ]
    }
   ],
   "source": [
    "#this code snippet was used to translate the names identified by the filters in the above cell\n",
    "#to the baseball savant data set, so we could study their metrics not just their\n",
    "#full season statistics \n",
    "\n",
    "bad_starter_names = bad_starters[[\"NameASCII\",\"Season\"]]\n",
    "bad_starter_names[\"NameASCII\"].str.lower()\n",
    "bad_starter_names = bad_starter_names.rename({'NameASCII':'Name'},axis=1)\n",
    "bad_starter_names = bad_starter_names[\"Name\"].str.split().str[1]\n",
    "bad_starter_savant = pitch_df\n",
    "bad_starter_savant[\"player_name\"].str.lower()\n",
    "bad_starter_savant = bad_starter_savant.rename({'player_name':'Name'},axis=1)\n",
    "bad_starter_savant[\"Name\"] = bad_starter_savant['Name'].str.split(',').str[0]\n",
    "\n",
    "\n",
    "bad_sp_savant = bad_starter_savant[bad_starter_savant['Name'].isin(bad_starter_names)]\n",
    "print(bad_sp_savant.dtypes)"
   ]
  }
 ],
 "metadata": {
  "kernelspec": {
   "display_name": "Python 3",
   "language": "python",
   "name": "python3"
  },
  "language_info": {
   "codemirror_mode": {
    "name": "ipython",
    "version": 3
   },
   "file_extension": ".py",
   "mimetype": "text/x-python",
   "name": "python",
   "nbconvert_exporter": "python",
   "pygments_lexer": "ipython3",
   "version": "3.11.5"
  }
 },
 "nbformat": 4,
 "nbformat_minor": 2
}
